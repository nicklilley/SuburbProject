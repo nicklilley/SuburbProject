{
 "cells": [
  {
   "cell_type": "code",
   "execution_count": 1,
   "metadata": {},
   "outputs": [],
   "source": [
    "import json\n",
    "\n",
    "with open('suburb-10-wa.geojson', 'r') as f:\n",
    "    data = json.load(f)\n",
    "\n",
    "#A Python dictionary containing properties to be added to each GeoJSON Feature\n",
    "properties_dict={\n",
    "    \"state\": \"WA\"\n",
    "    }\n",
    "#Convert the dictionary to a list\n",
    "properties_list=list(zip(properties_dict.keys(),properties_dict.values()))\n",
    "\n",
    "#Loop over GeoJSON features and add the new properties\n",
    "for feat in data['features']:\n",
    "    for i in range(len(properties_list)):\n",
    "        feat ['properties'][properties_list[i][0]]=properties_list[i][1]\n",
    "\n",
    "#Write result to a new file\n",
    "with open('suburb-10-wa-state-edit.geojson', 'w') as f:\n",
    "    json.dump(data, f)"
   ]
  },
  {
   "cell_type": "code",
   "execution_count": 25,
   "metadata": {},
   "outputs": [
    {
     "name": "stdout",
     "output_type": "stream",
     "text": [
      "act\n",
      "nsw\n",
      "qld\n",
      "tas\n",
      "vic\n"
     ]
    }
   ],
   "source": [
    "import json\n",
    "\n",
    "#state = ['act','nsw','nt','qld','sa','tas','vic','wa']\n",
    "state = ['act','nsw','qld','tas','vic']\n",
    "\n",
    "#\n",
    "\n",
    "for i in state:\n",
    "    state = i\n",
    "    print(state)\n",
    "    with open(f'suburb-2-{state}.geojson', 'r') as f:\n",
    "        data = json.load(f)\n",
    "    for k in reversed(range(len(data[\"features\"]))):\n",
    "        del data[\"features\"][k][\"properties\"][\"dt_retire\"]\n",
    "        del data[\"features\"][k][\"properties\"][f\"{state}_locali\"]\n",
    "        del data[\"features\"][k][\"properties\"][f\"{state}_loca_1\"]\n",
    "        del data[\"features\"][k][\"properties\"][f\"{state}_loca_3\"]\n",
    "        del data[\"features\"][k][\"properties\"][f\"{state}_loca_4\"]\n",
    "        del data[\"features\"][k][\"properties\"][f\"{state}_loca_5\"]\n",
    "        del data[\"features\"][k][\"properties\"][f\"{state}_loca_6\"]\n",
    "        del data[\"features\"][k][\"properties\"][f\"{state}_loca_7\"]\n",
    "\n",
    "    #Write result to a new file\n",
    "    with open(f'suburb-2-{state}-edit.geojson', 'w') as f:\n",
    "        json.dump(data, f)"
   ]
  },
  {
   "cell_type": "code",
   "execution_count": 3,
   "metadata": {},
   "outputs": [
    {
     "name": "stdout",
     "output_type": "stream",
     "text": [
      "nt\n",
      "sa\n",
      "wa\n"
     ]
    }
   ],
   "source": [
    "import json\n",
    "\n",
    "#state = ['act','nsw','nt','qld','sa','tas','vic','wa']\n",
    "state = ['nt','sa','wa']\n",
    "\n",
    "for i in state:\n",
    "    state = i\n",
    "    print(state)\n",
    "    with open(f'suburb-2-{state}.geojson', 'r') as f:\n",
    "        data = json.load(f)\n",
    "    for k in reversed(range(len(data[\"features\"]))):\n",
    "        del data[\"features\"][k][\"properties\"][\"dt_retire\"]\n",
    "        del data[\"features\"][k][\"properties\"][f\"{state}_localit\"]\n",
    "        del data[\"features\"][k][\"properties\"][f\"{state}_local_1\"]\n",
    "        del data[\"features\"][k][\"properties\"][f\"{state}_local_3\"]\n",
    "        del data[\"features\"][k][\"properties\"][f\"{state}_local_4\"]\n",
    "        del data[\"features\"][k][\"properties\"][f\"{state}_local_5\"]\n",
    "        del data[\"features\"][k][\"properties\"][f\"{state}_local_6\"]\n",
    "        del data[\"features\"][k][\"properties\"][f\"{state}_local_7\"]\n",
    "\n",
    "    #Write result to a new file\n",
    "    with open(f'suburb-2-{state}-edit.geojson', 'w') as f:\n",
    "        json.dump(data, f)"
   ]
  }
 ],
 "metadata": {
  "kernelspec": {
   "display_name": "Python 3.10.7 64-bit (microsoft store)",
   "language": "python",
   "name": "python3"
  },
  "language_info": {
   "codemirror_mode": {
    "name": "ipython",
    "version": 3
   },
   "file_extension": ".py",
   "mimetype": "text/x-python",
   "name": "python",
   "nbconvert_exporter": "python",
   "pygments_lexer": "ipython3",
   "version": "3.10.7"
  },
  "orig_nbformat": 4,
  "vscode": {
   "interpreter": {
    "hash": "7d768dd2128334442ca1e92e2788cb227a54429e0fad75b40fb8e40e4736d8a3"
   }
  }
 },
 "nbformat": 4,
 "nbformat_minor": 2
}
