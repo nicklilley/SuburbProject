{
 "cells": [
  {
   "cell_type": "code",
   "execution_count": null,
   "metadata": {},
   "outputs": [],
   "source": [
    "import streamlit as st\n",
    "import pandas as pd\n",
    "import snowflake.connector\n",
    "import altair as alt\n",
    "import datetime\n",
    "from datetime import date, datetime, timedelta\n",
    "import plotly.express as px\n",
    "import plotly.graph_objects as go\n",
    "from urllib.request import urlopen\n",
    "import json\n",
    "import sys\n",
    "import json\n",
    "from datetime import datetime\n",
    "\n",
    "with urlopen('https://raw.githubusercontent.com/tonywr71/GeoJson-Data/master/suburb-2-wa.geojson') as response:\n",
    "    counties = json.load(response)\n",
    "\n",
    "counties['features'][0]['properties']['test'] = '123456'\n",
    "\n",
    "json.dump(counties, response)\n",
    "\n",
    "\n",
    "\n",
    "\n",
    "\n",
    "#THIS IS THE GEOJSON DATASOURCE\n",
    "\n",
    "#Add another field to json\n",
    "#df_loc_pid = counties['features'][0]['properties']['test'] = '123456'\n",
    " \n",
    "#df_loc_pid\n",
    "\n",
    "#json.dump(df_loc_pid)\n",
    "\n",
    "\n",
    "#counties['features'][0]['properties'].update(\n",
    "#    state = 'beststate',\n",
    "#)\n",
    "\n",
    "\n",
    "\n",
    "\n"
   ]
  },
  {
   "cell_type": "code",
   "execution_count": null,
   "metadata": {},
   "outputs": [],
   "source": [
    "\n",
    "import streamlit as st\n",
    "import pandas as pd\n",
    "import snowflake.connector\n",
    "import altair as alt\n",
    "import datetime\n",
    "from datetime import date, datetime, timedelta\n",
    "import plotly.express as px\n",
    "import plotly.graph_objects as go\n",
    "from urllib.request import urlopen\n",
    "import json\n",
    "import sys\n",
    "import json\n",
    "from datetime import datetime\n",
    "\n",
    "with open('suburb-2-wa.geojson') as json_file:\n",
    "    json_decoded = json.load(json_file)\n",
    "\n",
    "json_decoded['ADDED_KEY'] = 'ADDED_VALUE'\n",
    "\n",
    "with open(json_file, 'w') as json_file:\n",
    "    json.dump(json_decoded, json_file)"
   ]
  },
  {
   "cell_type": "code",
   "execution_count": null,
   "metadata": {},
   "outputs": [],
   "source": [
    "\n",
    "\n",
    "\n",
    "with open(\"suburb-10-wa.geojson\", 'r') as f:\n",
    "    data = json.loads(f.read()) #data becomes a dictionary\n",
    "\n",
    "#do things with data here\n",
    "for i in data:\n",
    "    i['features']['properties']['lc_ply_pid'] = '123456'\n",
    "\n",
    "#and then just write the data back on the file\n",
    "with open(\"your_json_file.txt\", 'w') as f:\n",
    "    f.write(json.dumps(data))\n",
    "\n"
   ]
  },
  {
   "cell_type": "code",
   "execution_count": null,
   "metadata": {},
   "outputs": [],
   "source": []
  },
  {
   "cell_type": "code",
   "execution_count": null,
   "metadata": {},
   "outputs": [],
   "source": []
  },
  {
   "cell_type": "code",
   "execution_count": null,
   "metadata": {},
   "outputs": [],
   "source": [
    "import json\n",
    "\n",
    "# read in json \n",
    "geo_objects = json.load(open(\"suburb-2-wa.geojson\"))\n",
    "\n",
    "# code ...\n",
    "\n",
    "for d in geo_objects:\n",
    "    d[\"path\"][\"to\"][\"field\"] = calculated_value\n",
    "\n",
    "json.dump(geofiles, open(\"suburb-2-waedit.geojson\"))"
   ]
  },
  {
   "cell_type": "code",
   "execution_count": null,
   "metadata": {},
   "outputs": [],
   "source": [
    "import json\n",
    "\n",
    "with open('wa.geojson', 'r') as f:\n",
    "    data = json.load(f)\n",
    "\n",
    "#A Python dictionary containing properties to be added to each GeoJSON Feature\n",
    "properties_dict={\n",
    "    \"property1\": \"foo\",\n",
    "    \"property2\": 10,\n",
    "    \"property3\": 100\n",
    "    }\n",
    "#Convert the dictionary to a list\n",
    "properties_list=zip(properties_dict.keys(),properties_dict.values())\n",
    "\n",
    "#Loop over GeoJSON features and add the new properties\n",
    "for feat in data['features']:\n",
    "    for i in range(len(properties_list)):\n",
    "        feat ['properties'][properties_list[i][0]]=properties_list[i][1]\n",
    "\n",
    "#Write result to a new file\n",
    "with open('new.geojson', 'w') as f:\n",
    "    json.dump(data, f)"
   ]
  },
  {
   "cell_type": "code",
   "execution_count": null,
   "metadata": {},
   "outputs": [],
   "source": [
    "import json\n",
    "\n",
    "with open('wa.geojson') as infile:\n",
    "  data = json.load(infile)\n",
    "\n",
    "for elem in data(['features']['properties']['lc_ply_pid']):\n",
    "  elem['iscategorical']=elem['iscategorical'].replace('$home',elem['id'])\n",
    "\n",
    "with open('odata.json', 'w') as outfile:\n",
    "    json.dump(data, outfile)"
   ]
  },
  {
   "cell_type": "code",
   "execution_count": 32,
   "metadata": {},
   "outputs": [
    {
     "ename": "TypeError",
     "evalue": "list indices must be integers or slices, not str",
     "output_type": "error",
     "traceback": [
      "\u001b[1;31m---------------------------------------------------------------------------\u001b[0m",
      "\u001b[1;31mTypeError\u001b[0m                                 Traceback (most recent call last)",
      "\u001b[1;32mg:\\Other computers\\Nicks 2021 PC\\Google Drive Computer Sync\\Github\\SuburbProject\\visualisation\\pages\\geoedit.ipynb Cell 9\u001b[0m in \u001b[0;36m<cell line: 7>\u001b[1;34m()\u001b[0m\n\u001b[0;32m      <a href='vscode-notebook-cell:/g%3A/Other%20computers/Nicks%202021%20PC/Google%20Drive%20Computer%20Sync/Github/SuburbProject/visualisation/pages/geoedit.ipynb#X11sZmlsZQ%3D%3D?line=2'>3</a>\u001b[0m \u001b[39mwith\u001b[39;00m \u001b[39mopen\u001b[39m(\u001b[39m'\u001b[39m\u001b[39msuburb-10-wa.geojson\u001b[39m\u001b[39m'\u001b[39m) \u001b[39mas\u001b[39;00m infile:\n\u001b[0;32m      <a href='vscode-notebook-cell:/g%3A/Other%20computers/Nicks%202021%20PC/Google%20Drive%20Computer%20Sync/Github/SuburbProject/visualisation/pages/geoedit.ipynb#X11sZmlsZQ%3D%3D?line=3'>4</a>\u001b[0m   json_data \u001b[39m=\u001b[39m json\u001b[39m.\u001b[39mload(infile)\n\u001b[1;32m----> <a href='vscode-notebook-cell:/g%3A/Other%20computers/Nicks%202021%20PC/Google%20Drive%20Computer%20Sync/Github/SuburbProject/visualisation/pages/geoedit.ipynb#X11sZmlsZQ%3D%3D?line=6'>7</a>\u001b[0m \u001b[39mfor\u001b[39;00m item \u001b[39min\u001b[39;00m json_data[\u001b[39m\"\u001b[39;49m\u001b[39mfeatures\u001b[39;49m\u001b[39m\"\u001b[39;49m][\u001b[39m\"\u001b[39;49m\u001b[39mproperties\u001b[39;49m\u001b[39m\"\u001b[39;49m]:\n\u001b[0;32m      <a href='vscode-notebook-cell:/g%3A/Other%20computers/Nicks%202021%20PC/Google%20Drive%20Computer%20Sync/Github/SuburbProject/visualisation/pages/geoedit.ipynb#X11sZmlsZQ%3D%3D?line=7'>8</a>\u001b[0m     \u001b[39mfor\u001b[39;00m env \u001b[39min\u001b[39;00m item[\u001b[39m\"\u001b[39m\u001b[39menvironment\u001b[39m\u001b[39m\"\u001b[39m]:\n\u001b[0;32m      <a href='vscode-notebook-cell:/g%3A/Other%20computers/Nicks%202021%20PC/Google%20Drive%20Computer%20Sync/Github/SuburbProject/visualisation/pages/geoedit.ipynb#X11sZmlsZQ%3D%3D?line=8'>9</a>\u001b[0m          \u001b[39mif\u001b[39;00m env[\u001b[39m\"\u001b[39m\u001b[39mname\u001b[39m\u001b[39m\"\u001b[39m] \u001b[39m==\u001b[39m \u001b[39m\"\u001b[39m\u001b[39mREVISION\u001b[39m\u001b[39m\"\u001b[39m:\n",
      "\u001b[1;31mTypeError\u001b[0m: list indices must be integers or slices, not str"
     ]
    }
   ],
   "source": [
    "import json\n",
    "\n",
    "with open('suburb-10-wa.geojson') as infile:\n",
    "  json_data = json.load(infile)\n",
    "\n",
    "\n",
    "for item in json_data[\"features\"][\"properties\"]:\n",
    "    for env in item[\"environment\"]:\n",
    "         if env[\"name\"] == \"REVISION\":\n",
    "             env[\"value\"] = \"myrevision\"\n",
    "json.dumps(json_data, indent=4)"
   ]
  },
  {
   "cell_type": "code",
   "execution_count": 35,
   "metadata": {},
   "outputs": [],
   "source": [
    "import json\n",
    "\n",
    "with open('suburb-10-wa.geojson', 'r') as f:\n",
    "    data = json.load(f)\n",
    "\n",
    "#A Python dictionary containing properties to be added to each GeoJSON Feature\n",
    "properties_dict={\n",
    "    \"state\": \"WA\"\n",
    "    }\n",
    "#Convert the dictionary to a list\n",
    "properties_list=list(zip(properties_dict.keys(),properties_dict.values()))\n",
    "\n",
    "#Loop over GeoJSON features and add the new properties\n",
    "for feat in data['features']:\n",
    "    for i in range(len(properties_list)):\n",
    "        feat ['properties'][properties_list[i][0]]=properties_list[i][1]\n",
    "\n",
    "#Write result to a new file\n",
    "with open('suburb-10-wa-state-edit.geojson', 'w') as f:\n",
    "    json.dump(data, f)"
   ]
  }
 ],
 "metadata": {
  "kernelspec": {
   "display_name": "Python 3.10.7 64-bit (microsoft store)",
   "language": "python",
   "name": "python3"
  },
  "language_info": {
   "codemirror_mode": {
    "name": "ipython",
    "version": 3
   },
   "file_extension": ".py",
   "mimetype": "text/x-python",
   "name": "python",
   "nbconvert_exporter": "python",
   "pygments_lexer": "ipython3",
   "version": "3.10.7"
  },
  "orig_nbformat": 4,
  "vscode": {
   "interpreter": {
    "hash": "7d768dd2128334442ca1e92e2788cb227a54429e0fad75b40fb8e40e4736d8a3"
   }
  }
 },
 "nbformat": 4,
 "nbformat_minor": 2
}
