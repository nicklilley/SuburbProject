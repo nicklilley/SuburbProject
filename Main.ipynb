{
 "cells": [
  {
   "cell_type": "code",
   "execution_count": 99,
   "metadata": {},
   "outputs": [
    {
     "name": "stdout",
     "output_type": "stream",
     "text": [
      "  api_call_target_id state     suburb postcode      api_type api_sub_type  \\\n",
      "0                  1   NSW    Pyrmont     2009  demographics         Rent   \n",
      "1                  2    WA  Willetton     6155  demographics         Rent   \n",
      "\n",
      "   api_status_code apistatusreason            looprundatetime  \n",
      "0              200              OK 2022-08-21 12:00:45.003191  \n",
      "1              200              OK 2022-08-21 12:00:47.465886  \n"
     ]
    }
   ],
   "source": [
    "#Import packages and secrets\n",
    "import sys\n",
    "import requests\n",
    "import pandas as pd\n",
    "import json\n",
    "import boto3\n",
    "from datetime import datetime\n",
    "from config import api_key_secret\n",
    "\n",
    "#Set API call targets\n",
    "#API calls limited to 500 a day, need to iterate through API call targets day by day\n",
    "#ToDo: Get start and stop from a logging table\n",
    "start_iterating = 1\n",
    "stop_iterating = start_iterating + 500\n",
    "\n",
    "#Set Destination S3 bucket variables\n",
    "s3 = boto3.client('s3')\n",
    "bucket = 'sbx-suburbproject-api-responses'\n",
    "\n",
    "#Create empty list of lists to capture details for each successful loop run\n",
    "loop_run_log = []\n",
    "\n",
    "#import api_call_target_id, state, suburb and postcodes into dataframe\n",
    "df = pd.read_csv('suburbdatatest.csv')\n",
    "df = df.loc[df[\"api_call_target_id\"].between(start_iterating,stop_iterating)] #filter by api_call_target_id\n",
    "\n",
    "#Convert dataframe into lists\n",
    "api_call_target_ids = ((df[\"api_call_target_id\"]).astype(str).tolist())  #convert df to string and then convert to list\n",
    "states = (df[\"state\"]).tolist()\n",
    "suburbs = (df[\"suburb\"]).tolist()\n",
    "postcodes = ((df[\"postcode\"]).astype(str).tolist()) #convert df to string and then convert to list\n",
    "api_types = (df[\"api_type\"]).tolist()\n",
    "\n",
    "#Other URL Parameters\n",
    "base_url = \"https://api.domain.com.au\"\n",
    "version = \"v2\"\n",
    "api_sub_types = \"Rent\"\n",
    "year = \"2016\"\n",
    "\n",
    "#Authentication\n",
    "header = {\"X-API-Key\" : api_key_secret}\n",
    "\n",
    "#Loop through each item in lists, construct request URL, dump json response and errors to directory \n",
    "for api_call_target_id, state, suburb, postcode, api_type, api_sub_type in zip(api_call_target_ids, states, suburbs, postcodes, api_types, api_sub_types):    \n",
    "    #Define metadata variables\n",
    "    looprundatetime = datetime.now()\n",
    "    full_url = base_url + \"/\" + version + \"/\" + api_type + \"/\" + str(state) + \"/\" + str(suburb) + \"/\" + str(postcode) + \"?types=\" + str(api_sub_type)  + \"=\" + \"&year\" + str(year)\n",
    "    file_name = api_type+\"_\"+state+\"_\"+suburb+\"_\"+\"_\"+postcode+\"_\"+api_sub_types+\"_\"+year\n",
    "\n",
    "    #Call API and put errors and responses into variables\n",
    "    response = requests.get(full_url, headers=header)\n",
    "    api_status_code, api_status_reason = response.status_code, response.reason #Get API call status & reasons for error\n",
    "    response = response.json()\n",
    "\n",
    "    #Upload response file to S3 bucket as a JSON file\n",
    "    s3.put_object(Key=file_name,Body=json.dumps(response), Bucket=bucket)\n",
    "\n",
    "    #Logging - append each loop to list of lists\n",
    "    loop_run_log.append([api_call_target_id, state, suburb, postcode, api_type, api_sub_types, api_status_code, api_status_reason, looprundatetime])\n",
    "\n",
    "#Get loop_run_log results in a dataframe\n",
    "df_loop_run_log = pd.DataFrame(loop_run_log, columns = ['api_call_target_id','state','suburb','postcode','api_type','api_sub_type','api_status_code', 'apistatusreason','looprundatetime'])\n",
    "print(df_loop_run_log)"
   ]
  }
 ],
 "metadata": {
  "kernelspec": {
   "display_name": "Python 3.10.6 64-bit (windows store)",
   "language": "python",
   "name": "python3"
  },
  "language_info": {
   "codemirror_mode": {
    "name": "ipython",
    "version": 3
   },
   "file_extension": ".py",
   "mimetype": "text/x-python",
   "name": "python",
   "nbconvert_exporter": "python",
   "pygments_lexer": "ipython3",
   "version": "3.10.6"
  },
  "orig_nbformat": 4,
  "vscode": {
   "interpreter": {
    "hash": "7d768dd2128334442ca1e92e2788cb227a54429e0fad75b40fb8e40e4736d8a3"
   }
  }
 },
 "nbformat": 4,
 "nbformat_minor": 2
}
