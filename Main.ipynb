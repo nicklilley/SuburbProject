{
 "cells": [
  {
   "cell_type": "code",
   "execution_count": 2,
   "metadata": {},
   "outputs": [
    {
     "name": "stdout",
     "output_type": "stream",
     "text": [
      "https://api.domain.com.au/v2/demographics/NSW/Pyrmont/2009?types=R=&year2016\n",
      "https://api.domain.com.au/v2/demographics/WA/Willetton/6155?types=e=&year2016\n",
      "  apicalltargetid state     suburb postcode       apitype apisubtype  \\\n",
      "0               1   NSW    Pyrmont     2009  demographics       Rent   \n",
      "1               2    WA  Willetton     6155  demographics       Rent   \n",
      "\n",
      "             looprundatetime  \n",
      "0 2022-08-20 22:30:15.867920  \n",
      "1 2022-08-20 22:30:16.502231  \n"
     ]
    }
   ],
   "source": [
    "#Import packages and secrets\n",
    "import sys\n",
    "import requests\n",
    "import pandas as pd\n",
    "import json\n",
    "from datetime import datetime\n",
    "from config import api_key_secret\n",
    "\n",
    "#Set API call targets\n",
    "#API calls limited to 500 a day, need to iterate through API call targets day by day\n",
    "#ToDo: Get start and stop from a logging table\n",
    "startiterating = 1\n",
    "stopiterating = startiterating + 500\n",
    "\n",
    "#Create empty list of lists to capture details for each successful loop run\n",
    "looprunlog = []\n",
    "\n",
    "#import apicalltargetid, state, suburb and postcodes into dataframe\n",
    "df = pd.read_csv('suburbdatatest.csv')\n",
    "df = df.loc[df[\"apicalltargetid\"].between(startiterating,stopiterating)] #filter by apicalltargetid\n",
    "\n",
    "#Convert dataframe into lists\n",
    "apicalltargetids = ((df[\"apicalltargetid\"]).astype(str).tolist())  #convert df to string and then convert to list\n",
    "states = (df[\"state\"]).tolist()\n",
    "suburbs = (df[\"suburb\"]).tolist()\n",
    "postcodes = ((df[\"postcode\"]).astype(str).tolist()) #convert df to string and then convert to list\n",
    "apitypes = (df[\"apitype\"]).tolist()\n",
    "\n",
    "#Other URL Parameters\n",
    "baseurl = \"https://api.domain.com.au\"\n",
    "version = \"v2\"\n",
    "apisubtypes = \"Rent\"\n",
    "year = \"2016\"\n",
    "\n",
    "#Authentication\n",
    "header = {\"X-API-Key\" : api_key_secret}\n",
    "\n",
    "#Loop through each item in lists, construct request URL, dump json response to directory \n",
    "for apicalltargetid, state, suburb, postcode, apitype, apisubtype in zip(apicalltargetids, states, suburbs, postcodes, apitypes, apisubtypes):    \n",
    "    looprundatetime = datetime.now()\n",
    "    fullurl = baseurl + \"/\" + version + \"/\" + apitype + \"/\" + str(state) + \"/\" + str(suburb) + \"/\" + str(postcode) + \"?types=\" + str(apisubtype)  + \"=\" + \"&year\" + str(year)\n",
    "    response = requests.get(fullurl, headers=header)\n",
    "    response = response.json()\n",
    "    out_file = open(apitype+\"_\"+state+\"_\"+suburb+\"_\"+\"_\"+postcode+\"_\"+apisubtypes+\"_\"+year, \"w\")\n",
    "    json.dump(response, out_file, indent = 6)\n",
    "    out_file.close()\n",
    "    looprunlog.append([apicalltargetid, state, suburb, postcode, apitype, apisubtypes, looprundatetime]) #append each loop to a log list of lists\n",
    "    print(fullurl)\n",
    "\n",
    "#Get looprunlog results in a dataframe\n",
    "looprunlogdf = pd.DataFrame(looprunlog, columns = ['apicalltargetid','state','suburb','postcode','apitype','apisubtype','looprundatetime'])\n",
    "print(looprunlogdf)\n",
    "\n"
   ]
  }
 ],
 "metadata": {
  "kernelspec": {
   "display_name": "Python 3.10.6 64-bit (windows store)",
   "language": "python",
   "name": "python3"
  },
  "language_info": {
   "codemirror_mode": {
    "name": "ipython",
    "version": 3
   },
   "file_extension": ".py",
   "mimetype": "text/x-python",
   "name": "python",
   "nbconvert_exporter": "python",
   "pygments_lexer": "ipython3",
   "version": "3.10.6"
  },
  "orig_nbformat": 4,
  "vscode": {
   "interpreter": {
    "hash": "7d768dd2128334442ca1e92e2788cb227a54429e0fad75b40fb8e40e4736d8a3"
   }
  }
 },
 "nbformat": 4,
 "nbformat_minor": 2
}
