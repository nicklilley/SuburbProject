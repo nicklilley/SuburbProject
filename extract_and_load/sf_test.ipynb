{
 "cells": [
  {
   "cell_type": "code",
   "execution_count": 1,
   "metadata": {},
   "outputs": [
    {
     "name": "stdout",
     "output_type": "stream",
     "text": [
      "                      DIM_SUBURB_SK              SUBURB_ID         SUBURB  \\\n",
      "0  009658a289fa245230ce5a9c4b24ba77  Bassendean Dc-6054-WA  Bassendean Dc   \n",
      "\n",
      "  POSTCODE STATE  row_num  \n",
      "0     6054    WA        0  \n"
     ]
    }
   ],
   "source": [
    "import sys\n",
    "import requests\n",
    "import pandas as pd\n",
    "import json\n",
    "import boto3\n",
    "import botocore\n",
    "import pyarrow\n",
    "import numpy\n",
    "import snowflake.connector\n",
    "from datetime import datetime\n",
    "from config import api_key_secret, AWS_ACCESS_KEY_ID, AWS_SECRET_ACCESS_KEY\n",
    "from aws_secretsmanager_caching import SecretCache, SecretCacheConfig \n",
    "\n",
    "# Get secrets from AWS Secrets Manager\n",
    "client = botocore.session.get_session().create_client('secretsmanager')\n",
    "cache_config = SecretCacheConfig()\n",
    "cache = SecretCache( config = cache_config, client = client)\n",
    "secrets = cache.get_secret_string('snowflake-creds')\n",
    "secrets = (json.loads(secrets)) #Put secrets into a dictionary\n",
    "\n",
    "# Initialize connection to Snowflake\n",
    "ctx = snowflake.connector.connect(\n",
    "    user='NICKLILLEYMAN',\n",
    "    password=(secrets['password']),\n",
    "    account=(secrets['account']),\n",
    "    region =(secrets['region']),\n",
    "    warehouse=(secrets['warehouse']),\n",
    "    database='SBX_RAW',\n",
    "    schema='PUBLIC'\n",
    "    )\n",
    "\n",
    "# Create a cursor object.\n",
    "cur = ctx.cursor()\n",
    "\n",
    "# Execute a statement that will generate a result set.\n",
    "sql = (\"\"\"\n",
    "SELECT\n",
    "     DIM_SUBURB_SK\n",
    "    ,SUBURB_ID\n",
    "    ,SUBURB\n",
    "    ,POSTCODE\n",
    "    ,STATE\n",
    "FROM SBX_ANALYTICS.DBT_NLILLEYMAN_COMMON.DIM_SUBURB_GEOGRAPHY\n",
    "WHERE\n",
    "     STATE = 'WA'\n",
    "AND  DIM_SUBURB_SK NOT IN (SELECT SEED_KEY FROM SBX_RAW.PUBLIC.API_CALL_LOG)\n",
    "AND DIM_SUBURB_SK = '009658a289fa245230ce5a9c4b24ba77'\n",
    "ORDER BY DIM_SUBURB_SK\n",
    " \"\"\")\n",
    "cur.execute(sql)\n",
    "\n",
    "#Put query results into a dataframe\n",
    "df = cur.fetch_pandas_all()\n",
    "df['row_num'] = df.reset_index().index\n",
    "print(df)"
   ]
  }
 ],
 "metadata": {
  "kernelspec": {
   "display_name": "Python 3.10.7 64-bit (microsoft store)",
   "language": "python",
   "name": "python3"
  },
  "language_info": {
   "codemirror_mode": {
    "name": "ipython",
    "version": 3
   },
   "file_extension": ".py",
   "mimetype": "text/x-python",
   "name": "python",
   "nbconvert_exporter": "python",
   "pygments_lexer": "ipython3",
   "version": "3.10.7"
  },
  "orig_nbformat": 4,
  "vscode": {
   "interpreter": {
    "hash": "7d768dd2128334442ca1e92e2788cb227a54429e0fad75b40fb8e40e4736d8a3"
   }
  }
 },
 "nbformat": 4,
 "nbformat_minor": 2
}
