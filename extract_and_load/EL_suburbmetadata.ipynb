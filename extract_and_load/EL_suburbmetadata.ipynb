{
 "cells": [
  {
   "cell_type": "code",
   "execution_count": 1,
   "metadata": {},
   "outputs": [
    {
     "name": "stdout",
     "output_type": "stream",
     "text": [
      "Files uploaded to S3\n",
      "1661967941.31185\n",
      "Files uploaded to S3\n",
      "1661967991.4532495\n"
     ]
    }
   ],
   "source": [
    "#Import packages and secrets\n",
    "import sys\n",
    "import requests\n",
    "import pandas as pd\n",
    "import json\n",
    "import boto3\n",
    "import time\n",
    "from config import api_key_secret, AWS_ACCESS_KEY_ID, AWS_SECRET_ACCESS_KEY\n",
    "\n",
    "\n",
    "#Set Destination S3 bucket variables\n",
    "s3 = boto3.client('s3')\n",
    "jsonbucket = 'sbx-suburbmetadata-injest-json'\n",
    "\n",
    "#Set files to be uploaded\n",
    "files = ['upload_data/australian_postcodes_bottomhalf.json','upload_data/australian_postcodes_tophalf.json']\n",
    "\n",
    "#Upload parquet files into S3 bucket\n",
    "for file_name in files:\n",
    "    timestamp = time.time()\n",
    "    s3.upload_file(file_name, jsonbucket, str(timestamp)+file_name.replace('upload_data/', ''))\n",
    "    print(\"Files uploaded to S3\")\n",
    "    print(timestamp)\n",
    "\n",
    "      "
   ]
  }
 ],
 "metadata": {
  "kernelspec": {
   "display_name": "Python 3.10.6 64-bit (windows store)",
   "language": "python",
   "name": "python3"
  },
  "language_info": {
   "codemirror_mode": {
    "name": "ipython",
    "version": 3
   },
   "file_extension": ".py",
   "mimetype": "text/x-python",
   "name": "python",
   "nbconvert_exporter": "python",
   "pygments_lexer": "ipython3",
   "version": "3.10.6"
  },
  "orig_nbformat": 4,
  "vscode": {
   "interpreter": {
    "hash": "7d768dd2128334442ca1e92e2788cb227a54429e0fad75b40fb8e40e4736d8a3"
   }
  }
 },
 "nbformat": 4,
 "nbformat_minor": 2
}
