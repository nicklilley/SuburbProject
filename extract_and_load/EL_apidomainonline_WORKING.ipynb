{
 "cells": [
  {
   "cell_type": "code",
   "execution_count": 1,
   "metadata": {},
   "outputs": [
    {
     "name": "stdout",
     "output_type": "stream",
     "text": [
      "   api_call_target_id state  postcode      suburb                     api_type\n",
      "0                   1   NSW      2009     Pyrmont                 demographics\n",
      "1                   2    WA      6155   Willetton                 demographics\n",
      "2                   3    WA      6112  Harrisdale                 demographics\n",
      "3                   4   NSW      2009     Pyrmont  suburbPerformanceStatistics\n",
      "4                   5    WA      6155   Willetton  suburbPerformanceStatistics\n",
      "5                   6    WA      6112  Harrisdale  suburbPerformanceStatistics\n"
     ]
    },
    {
     "ename": "NameError",
     "evalue": "name 'api_call_target_ids' is not defined",
     "output_type": "error",
     "traceback": [
      "\u001b[1;31m---------------------------------------------------------------------------\u001b[0m",
      "\u001b[1;31mNameError\u001b[0m                                 Traceback (most recent call last)",
      "\u001b[1;32mg:\\Other computers\\Nicks 2021 PC\\Google Drive Computer Sync\\Github\\SuburbProject\\extract_and_load\\EL_apidomainonline_WORKING.ipynb Cell 1\u001b[0m in \u001b[0;36m<cell line: 53>\u001b[1;34m()\u001b[0m\n\u001b[0;32m     <a href='vscode-notebook-cell:/g%3A/Other%20computers/Nicks%202021%20PC/Google%20Drive%20Computer%20Sync/Github/SuburbProject/extract_and_load/EL_apidomainonline_WORKING.ipynb#W1sZmlsZQ%3D%3D?line=52'>53</a>\u001b[0m \u001b[39mfor\u001b[39;00m i \u001b[39min\u001b[39;00m property_types:\n\u001b[0;32m     <a href='vscode-notebook-cell:/g%3A/Other%20computers/Nicks%202021%20PC/Google%20Drive%20Computer%20Sync/Github/SuburbProject/extract_and_load/EL_apidomainonline_WORKING.ipynb#W1sZmlsZQ%3D%3D?line=53'>54</a>\u001b[0m     property_types \u001b[39m=\u001b[39m i\n\u001b[1;32m---> <a href='vscode-notebook-cell:/g%3A/Other%20computers/Nicks%202021%20PC/Google%20Drive%20Computer%20Sync/Github/SuburbProject/extract_and_load/EL_apidomainonline_WORKING.ipynb#W1sZmlsZQ%3D%3D?line=54'>55</a>\u001b[0m     \u001b[39mfor\u001b[39;00m api_call_target_id, state, suburb, postcode \u001b[39min\u001b[39;00m \u001b[39mzip\u001b[39m(api_call_target_ids, states, suburbs, postcodes):    \n\u001b[0;32m     <a href='vscode-notebook-cell:/g%3A/Other%20computers/Nicks%202021%20PC/Google%20Drive%20Computer%20Sync/Github/SuburbProject/extract_and_load/EL_apidomainonline_WORKING.ipynb#W1sZmlsZQ%3D%3D?line=55'>56</a>\u001b[0m         \u001b[39m#Define metadata variables\u001b[39;00m\n\u001b[0;32m     <a href='vscode-notebook-cell:/g%3A/Other%20computers/Nicks%202021%20PC/Google%20Drive%20Computer%20Sync/Github/SuburbProject/extract_and_load/EL_apidomainonline_WORKING.ipynb#W1sZmlsZQ%3D%3D?line=56'>57</a>\u001b[0m         looprundatetime \u001b[39m=\u001b[39m datetime\u001b[39m.\u001b[39mnow()\n\u001b[0;32m     <a href='vscode-notebook-cell:/g%3A/Other%20computers/Nicks%202021%20PC/Google%20Drive%20Computer%20Sync/Github/SuburbProject/extract_and_load/EL_apidomainonline_WORKING.ipynb#W1sZmlsZQ%3D%3D?line=57'>58</a>\u001b[0m         \u001b[39m#full_url = base_url + \"/\" + version + \"/\" + api_type + \"/\" + str(state) + \"/\" + str(suburb) + \"/\" + str(postcode) + \"?types=\" + str(api_sub_type)  + \"=\" + \"&year\" + str(year)\u001b[39;00m\n\u001b[0;32m     <a href='vscode-notebook-cell:/g%3A/Other%20computers/Nicks%202021%20PC/Google%20Drive%20Computer%20Sync/Github/SuburbProject/extract_and_load/EL_apidomainonline_WORKING.ipynb#W1sZmlsZQ%3D%3D?line=58'>59</a>\u001b[0m         \u001b[39m#full_url = base_url + \"/\" + version + \"/\" + api_type + \"/\" + str(state) + \"/\" + str(suburb) + \"/\" + str(postcode)\u001b[39;00m\n",
      "\u001b[1;31mNameError\u001b[0m: name 'api_call_target_ids' is not defined"
     ]
    }
   ],
   "source": [
    "#Import packages and secrets\n",
    "import sys\n",
    "import requests\n",
    "import pandas as pd\n",
    "import json\n",
    "import boto3\n",
    "import botocore\n",
    "import pyarrow\n",
    "from datetime import datetime\n",
    "from config import api_key_secret, AWS_ACCESS_KEY_ID, AWS_SECRET_ACCESS_KEY\n",
    "from aws_secretsmanager_caching import SecretCache, SecretCacheConfig \n",
    "\n",
    "############### SET API TARGET, PARAMETERS, DESTINATION BUCKET AND LOGGING ###############\n",
    "\n",
    "#Set API Target and Parameters\n",
    "base_url = \"https://api.domain.com.au\"\n",
    "version = \"v2\"\n",
    "year = \"2016\"\n",
    "api_types = \"suburbPerformanceStatistics\"\n",
    "property_types = [\"house\", \"unit\"]\n",
    "period_size = 'quarters'\n",
    "total_periods = '100'\n",
    "#Authentication\n",
    "header = {\"X-API-Key\" : api_key_secret}\n",
    "\n",
    "#Set Destination S3 bucket variables\n",
    "s3 = boto3.client('s3')\n",
    "jsonbucket = 'sbx-apidomainonline-injest-json'\n",
    "parquetbucket = 'sbx-apidomainonline-injest-parquet'\n",
    "\n",
    "#Create empty list of lists to capture details for each successful loop run\n",
    "loop_run_log = []\n",
    "\n",
    "############### GET LIST OF SEEDS FOR API CALL FROM SNOWFLAKE ##############\n",
    "\n",
    "#Set API call targets\n",
    "#API calls limited to 500 a day, need to iterate through API call targets day by day\n",
    "#ToDo: Get start and stop from a logging table\n",
    "start_iterating = 1\n",
    "stop_iterating = start_iterating + 500\n",
    "\n",
    "#import api_call_target_id, state, suburb and postcodes into dataframe\n",
    "df = pd.read_csv(\"target_data//suburbdatatest.csv\")\n",
    "df = df.loc[df[\"api_call_target_id\"].between(start_iterating,stop_iterating)] #filter by api_call_target_id\n",
    "print(df)\n",
    "\n",
    "\n",
    "\n",
    "\n",
    "############### LOOP THROUGH SEEDS AND CALL API FOR EACH SEED ##############\n",
    "\n",
    "#Loop through each item in lists, construct request URL, dump json response and errors to directory \n",
    "for i in property_types:\n",
    "    property_types = i\n",
    "    for api_call_target_id, state, suburb, postcode in zip(api_call_target_ids, states, suburbs, postcodes):    \n",
    "        #Define metadata variables\n",
    "        looprundatetime = datetime.now()\n",
    "        #full_url = base_url + \"/\" + version + \"/\" + api_type + \"/\" + str(state) + \"/\" + str(suburb) + \"/\" + str(postcode) + \"?types=\" + str(api_sub_type)  + \"=\" + \"&year\" + str(year)\n",
    "        #full_url = base_url + \"/\" + version + \"/\" + api_type + \"/\" + str(state) + \"/\" + str(suburb) + \"/\" + str(postcode)\n",
    "        full_url = base_url+\"/\"+version+\"/\"+api_types+\"/\"+str(state)+\"/\"+str(suburb)+\"/\"+str(postcode)+\"?propertyCategory=\"+str(property_types)+\"&periodSize=\"+str(period_size)+\"&totalPeriods=\"+str(total_periods)\n",
    "\n",
    "        #Call API and put errors and responses into variables\n",
    "        response = requests.get(full_url, headers=header)\n",
    "        api_status_code, api_status_reason = response.status_code, response.reason #Get API call status & reasons for error\n",
    "        response = response.json()\n",
    "\n",
    "        #Define filename\n",
    "        file_name = state+\"_\"+suburb+\"_\"+postcode+\"_\"+year+\"_\"+str(api_status_code)+\"_\"+api_type+\"_\"+property_types\n",
    "\n",
    "        #Convert json response to parquet file\n",
    "        df = pd.DataFrame(response)\n",
    "        df.to_parquet(file_name+\".parquet\")\n",
    "        \n",
    "        #Upload parquet files into S3 bucket\n",
    "        s3.upload_file(file_name+\".parquet\", parquetbucket, file_name+\".parquet\")\n",
    "        os.remove(file_name+\".parquet\")\n",
    "        \n",
    "        #Upload json response into S3 bucket\n",
    "        df.to_json(file_name+\".json\")\n",
    "        #s3.put_object(Key=file_name+\".json\",Body=json.dumps(response), Bucket=jsonbucket)\n",
    "        \n",
    "        #Logging - append each loop to list of lists\n",
    "        loop_run_log.append([api_call_target_id, state, suburb, postcode, api_type, api_status_code, api_status_reason, looprundatetime])\n",
    "        print(full_url)\n",
    "#Get loop_run_log results in a dataframe\n",
    "df_loop_run_log = pd.DataFrame(loop_run_log, columns = ['api_call_target_id','state','suburb','postcode','api_type', 'api_status_code', 'apistatusreason','looprundatetime'])\n",
    "print(df_loop_run_log)\n"
   ]
  }
 ],
 "metadata": {
  "kernelspec": {
   "display_name": "Python 3.10.6 64-bit (windows store)",
   "language": "python",
   "name": "python3"
  },
  "language_info": {
   "codemirror_mode": {
    "name": "ipython",
    "version": 3
   },
   "file_extension": ".py",
   "mimetype": "text/x-python",
   "name": "python",
   "nbconvert_exporter": "python",
   "pygments_lexer": "ipython3",
   "version": "3.10.7"
  },
  "orig_nbformat": 4,
  "vscode": {
   "interpreter": {
    "hash": "7d768dd2128334442ca1e92e2788cb227a54429e0fad75b40fb8e40e4736d8a3"
   }
  }
 },
 "nbformat": 4,
 "nbformat_minor": 2
}
